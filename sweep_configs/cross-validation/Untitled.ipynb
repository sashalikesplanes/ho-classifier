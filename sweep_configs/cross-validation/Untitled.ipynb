{
 "cells": [
  {
   "cell_type": "code",
   "execution_count": 1,
   "id": "54a412fc",
   "metadata": {},
   "outputs": [
    {
     "name": "stdout",
     "output_type": "stream",
     "text": [
      "Looking in indexes: https://pypi.org/simple, https://pypi.ngc.nvidia.com\n",
      "Requirement already satisfied: pyyaml in /opt/conda/lib/python3.8/site-packages (5.4.1)\n",
      "\u001b[33mWARNING: Running pip as the 'root' user can result in broken permissions and conflicting behaviour with the system package manager. It is recommended to use a virtual environment instead: https://pip.pypa.io/warnings/venv\u001b[0m\n"
     ]
    }
   ],
   "source": [
    "!pip install pyyaml"
   ]
  },
  {
   "cell_type": "code",
   "execution_count": 1,
   "id": "64e3f0fa",
   "metadata": {},
   "outputs": [],
   "source": [
    "import yaml\n",
    "with open(\"di-ex.yaml\") as file:\n",
    "    example_config = yaml.load(file, Loader=yaml.FullLoader)"
   ]
  },
  {
   "cell_type": "code",
   "execution_count": 2,
   "id": "c49380d9",
   "metadata": {},
   "outputs": [
    {
     "data": {
      "text/plain": [
       "{'program': 'train.py',\n",
       " 'description': 'Cross validation of leaving 1 subject out',\n",
       " 'method': 'random',\n",
       " 'metric': {'goal': 'maximize', 'name': 'accuracy'},\n",
       " 'name': 'DI - subject 1',\n",
       " 'parameters': {'random_labels': {'value': False},\n",
       "  'valid_subject': {'value': 0},\n",
       "  'desired_conditions': {'value': ['CL',\n",
       "    'CM',\n",
       "    'CH',\n",
       "    'PL',\n",
       "    'PM',\n",
       "    'PH',\n",
       "    'PRL',\n",
       "    'PRM',\n",
       "    'PRH']},\n",
       "  'condition_labels': {'value': [0, 0, 0, 1, 1, 1, 2, 2, 2]},\n",
       "  'batch_size': {'value': 64},\n",
       "  'data_file': {'value': 'expdata.mat'},\n",
       "  'bn': {'value': False},\n",
       "  'bottleneck': {'value': False},\n",
       "  'bottleneck_size': {'value': 0},\n",
       "  'conv_dropout': {'value': 0.05},\n",
       "  'depth': {'value': 6},\n",
       "  'epochs': {'value': 25},\n",
       "  'ks': {'value': 64},\n",
       "  'lr': {'value': 0.00275},\n",
       "  'nf': {'value': 24},\n",
       "  'residual': {'value': False},\n",
       "  'valid_pct': {'value': 0.2},\n",
       "  'variables': {'value': ['e', 'u', 'x']},\n",
       "  'wd': {'value': 0.05}},\n",
       " 'project': 'CrossValid'}"
      ]
     },
     "execution_count": 2,
     "metadata": {},
     "output_type": "execute_result"
    }
   ],
   "source": [
    "example_config"
   ]
  },
  {
   "cell_type": "code",
   "execution_count": 4,
   "id": "45ccd8f3",
   "metadata": {},
   "outputs": [],
   "source": [
    "for i in range(0, 9):\n",
    "    si_file = example_config.copy()\n",
    "    si_file[\"name\"] = si_file[\"name\"][:-1] + str(i + 1)\n",
    "    si_file[\"parameters\"][\"valid_subject\"][\"value\"] = i\n",
    "    with open(f\"di-{i+1}.yaml\", \"w\") as file:\n",
    "        yaml.dump(si_file, file)"
   ]
  },
  {
   "cell_type": "code",
   "execution_count": null,
   "id": "1fd9d739",
   "metadata": {},
   "outputs": [],
   "source": []
  }
 ],
 "metadata": {
  "kernelspec": {
   "display_name": "Python 3 (ipykernel)",
   "language": "python",
   "name": "python3"
  },
  "language_info": {
   "codemirror_mode": {
    "name": "ipython",
    "version": 3
   },
   "file_extension": ".py",
   "mimetype": "text/x-python",
   "name": "python",
   "nbconvert_exporter": "python",
   "pygments_lexer": "ipython3",
   "version": "3.8.12"
  }
 },
 "nbformat": 4,
 "nbformat_minor": 5
}
